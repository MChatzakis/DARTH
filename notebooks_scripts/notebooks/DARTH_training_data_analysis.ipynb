{
 "cells": [
  {
   "cell_type": "code",
   "execution_count": null,
   "metadata": {},
   "outputs": [],
   "source": [
    "import pandas as pd\n",
    "import numpy as np\n",
    "\n",
    "import lightgbm as lgb\n",
    "import xgboost as xgb\n",
    "\n",
    "from sklearn.model_selection import train_test_split  # type: ignore\n",
    "from sklearn.linear_model import LinearRegression  # type: ignore\n",
    "from sklearn.metrics import mean_absolute_error, mean_squared_error, r2_score\n",
    "from sklearn.ensemble import RandomForestRegressor, GradientBoostingRegressor\n",
    "\n",
    "import time\n",
    "import matplotlib.pyplot as plt\n",
    "\n",
    "import json\n",
    "\n",
    "from tqdm import tqdm\n",
    "\n",
    "from sklearn.preprocessing import StandardScaler\n",
    "from sklearn.cluster import KMeans\n",
    "\n",
    "import dask.dataframe as dd\n",
    "import os\n",
    "\n",
    "dataset_params = {\n",
    "        \"SIFT100M\": {\n",
    "            \"M\": 32,\n",
    "            \"efC\": 500,\n",
    "            \"efS\": 500,\n",
    "            \"li\": 1,\n",
    "            \"label\": \"SIFT100M\",\n",
    "        },\n",
    "        \"GIST1M\": {\n",
    "            \"M\": 32,\n",
    "            \"efC\": 500,\n",
    "            \"efS\": 1000,\n",
    "            \"li\": 1,\n",
    "            \"label\": \"GIST1M\",\n",
    "        },\n",
    "        \"GLOVE100\": {\n",
    "            \"M\": 16,\n",
    "            \"efC\": 500,\n",
    "            \"efS\": 500,\n",
    "            \"li\": 1,\n",
    "            \"label\": \"GLOVE1M\",\n",
    "        },\n",
    "        \"DEEP100M\":{\n",
    "            \"M\": 32,\n",
    "            \"efC\": 500,\n",
    "            \"efS\": 750,\n",
    "            \"li\": 1,\n",
    "            \"label\": \"DEEP100M\",\n",
    "        },\n",
    "        \"T2I100M\":{\n",
    "            \"M\": 80,\n",
    "            \"efC\": 1000,\n",
    "            \"efS\": 2500,\n",
    "            \"li\": 2,\n",
    "            \"label\": \"T2I100M\",\n",
    "        }\n",
    "    }\n",
    "\n",
    "SEED = 42\n",
    "\n",
    "index_metric_feats = [\"step\", \"dists\", \"inserts\"]\n",
    "neighbor_distances_feats = [\"first_nn_dist\", \"nn_dist\", \"furthest_dist\"]\n",
    "neighbor_stats_feats = [\"avg_dist\", \"variance\", \"percentile_25\", \"percentile_50\", \"percentile_75\"]\n",
    "data_dims_feats = [\"dim_l2_norm\", \"dim_l1_norm\", \"dim_mean\", \"dim_median\", \"dim_std\", \"dim_var\", \"dim_min\", \"dim_max\", \"dim_range\", \"dim_energy\", \"dim_skewness\", \"dim_kurtosis\", \"dim_perc_25\", \"dim_perc_75\", \"dim_perc_95\"]\n",
    "neighbor_stats_feats_new = [\"std\", \"range\", \"energy\", \"skewness\", \"kurtosis\", \"percentile_95\"]"
   ]
  },
  {
   "cell_type": "code",
   "execution_count": null,
   "metadata": {},
   "outputs": [],
   "source": [
    "ds_name = \"SIFT100M\"\n",
    "k = 50\n",
    "li = 5\n",
    "queries = 10000\n",
    "M = dataset_params[ds_name][\"M\"]\n",
    "efC = dataset_params[ds_name][\"efC\"]\n",
    "efS = dataset_params[ds_name][\"efS\"]\n",
    "\n",
    "columns_to_load = [\"qid\", \"elaps_ms\"] + index_metric_feats + neighbor_distances_feats + neighbor_stats_feats + data_dims_feats + neighbor_stats_feats_new + [\"r\", \"feats_collect_time_ms\"]\n",
    "\n",
    "datapath = f\"/data/mchatzakis/et_training_data/early-stop-training/{ds_name}/k{k}/M{M}_efC{efC}_efS{efS}_qs{queries}_li{li}_imp.txt\"\n",
    "all_queries_dask = dd.read_csv(datapath, usecols=columns_to_load)\n",
    "all_queries_data = all_queries_dask.compute()"
   ]
  },
  {
   "cell_type": "code",
   "execution_count": null,
   "metadata": {},
   "outputs": [],
   "source": [
    "all_queries_data.head()"
   ]
  },
  {
   "cell_type": "code",
   "execution_count": null,
   "metadata": {},
   "outputs": [],
   "source": [
    "all_queries_data.sample(10)"
   ]
  },
  {
   "cell_type": "code",
   "execution_count": null,
   "metadata": {},
   "outputs": [],
   "source": [
    "all_queries_data.describe()"
   ]
  },
  {
   "cell_type": "code",
   "execution_count": null,
   "metadata": {},
   "outputs": [],
   "source": [
    "# Average collection time:\n",
    "all_queries_data[\"feats_collect_time_ms\"].mean()"
   ]
  }
 ],
 "metadata": {
  "kernelspec": {
   "display_name": "localPyLibs",
   "language": "python",
   "name": "python3"
  },
  "language_info": {
   "codemirror_mode": {
    "name": "ipython",
    "version": 3
   },
   "file_extension": ".py",
   "mimetype": "text/x-python",
   "name": "python",
   "nbconvert_exporter": "python",
   "pygments_lexer": "ipython3",
   "version": "3.10.14"
  }
 },
 "nbformat": 4,
 "nbformat_minor": 2
}
